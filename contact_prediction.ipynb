{
 "cells": [
  {
   "cell_type": "code",
   "execution_count": null,
   "metadata": {},
   "outputs": [],
   "source": [
    "\"\"\"Adapted from: https://github.com/facebookresearch/esm/blob/main/examples/contact_prediction.ipynb\"\"\""
   ]
  },
  {
   "cell_type": "markdown",
   "metadata": {
    "id": "q1eZWXv1bxGl"
   },
   "source": [
    "## Imports"
   ]
  },
  {
   "cell_type": "code",
   "execution_count": null,
   "metadata": {
    "colab": {
     "base_uri": "https://localhost:8080/"
    },
    "id": "fQ8ztOjvQbJV",
    "outputId": "44da6a25-109b-44ed-db6c-dcfdb224ee4a",
    "tags": []
   },
   "outputs": [],
   "source": [
    "# standard lib\n",
    "from typing import Tuple, Optional, Dict, Union, Callable\n",
    "import string\n",
    "from pathlib import Path\n",
    "\n",
    "# scientific libs\n",
    "import numpy as np\n",
    "import pandas as pd\n",
    "from scipy.spatial.distance import squareform, pdist\n",
    "from Bio import SeqIO\n",
    "import biotite.structure as bs\n",
    "from biotite.structure.info import residue\n",
    "from biotite.structure.io.pdbx import PDBxFile, get_structure\n",
    "from biotite.database import rcsb\n",
    "from biotite.sequence.io.fasta import convert\n",
    "\n",
    "\n",
    "# DL libs\n",
    "import torch\n",
    "import torch.nn.functional as F\n",
    "import esm\n",
    "\n",
    "# graph libs\n",
    "import matplotlib.pyplot as plt\n",
    "import matplotlib as mpl\n",
    "from tqdm import tqdm\n",
    "\n",
    "torch.set_grad_enabled(False)"
   ]
  },
  {
   "cell_type": "markdown",
   "metadata": {
    "id": "i7iXPaDKZ5vx"
   },
   "source": [
    "## Define Functions"
   ]
  },
  {
   "cell_type": "markdown",
   "metadata": {
    "id": "rb4cDoG2ns91"
   },
   "source": [
    "### Parsing alignments"
   ]
  },
  {
   "cell_type": "code",
   "execution_count": null,
   "metadata": {
    "id": "Lpt-Ijz2T6zF",
    "tags": []
   },
   "outputs": [],
   "source": [
    "# This is an efficient way to delete lowercase characters from a string\n",
    "deletekeys = dict.fromkeys(string.ascii_lowercase)\n",
    "deletekeys[\".\"] = None\n",
    "deletekeys[\"*\"] = None\n",
    "\n",
    "def read_sequence(filename: str) -> Tuple[str, str]:\n",
    "    \"\"\" Reads the first (reference) sequences from a fasta file.\"\"\"\n",
    "    record = next(SeqIO.parse(filename, \"fasta\"))\n",
    "    return record.description, str(record.seq)"
   ]
  },
  {
   "cell_type": "markdown",
   "metadata": {
    "id": "tV3WCbn6aXL7"
   },
   "source": [
    "### Converting structures to contacts\n",
    "\n",
    "There are many ways to define a protein contact. Here we're using the definition of 15 angstroms between carbon beta atoms. Note that the position of the carbon beta is imputed from the position of the N, CA, and C atoms for each residue."
   ]
  },
  {
   "cell_type": "code",
   "execution_count": null,
   "metadata": {
    "id": "n4FBkOUaWuXb",
    "tags": []
   },
   "outputs": [],
   "source": [
    "def extend(a, b, c, L, A, D):\n",
    "    \"\"\"\n",
    "    input:  3 coords (a,b,c), (L)ength, (A)ngle, and (D)ihedral\n",
    "    output: 4th coord\n",
    "    \"\"\"\n",
    "\n",
    "    def normalize(x):\n",
    "        return x / np.linalg.norm(x, ord=2, axis=-1, keepdims=True)\n",
    "\n",
    "    bc = normalize(b - c)\n",
    "    n = normalize(np.cross(b - a, bc))\n",
    "    m = [bc, np.cross(n, bc), n]\n",
    "    d = [L * np.cos(A), L * np.sin(A) * np.cos(D), -L * np.sin(A) * np.sin(D)]\n",
    "    return c + sum([m * d for m, d in zip(m, d)])\n",
    "\n",
    "\n",
    "def contacts_from_pdb(\n",
    "    structure: bs.AtomArray,\n",
    "\n",
    "    # Increase distances for flexible IDPs\n",
    "    distance_threshold: float = 15.0,\n",
    "    chain: Optional[str] = None,\n",
    ") -> np.ndarray:\n",
    "    mask = ~structure.hetero\n",
    "    if chain is not None:\n",
    "        mask &= structure.chain_id == chain\n",
    "\n",
    "    N = structure.coord[mask & (structure.atom_name == \"N\")]\n",
    "    CA = structure.coord[mask & (structure.atom_name == \"CA\")]\n",
    "    C = structure.coord[mask & (structure.atom_name == \"C\")]\n",
    "\n",
    "    Cbeta = extend(C, N, CA, 1.522, 1.927, -2.143)\n",
    "    dist = squareform(pdist(Cbeta))\n",
    "    contacts = dist < distance_threshold\n",
    "    contacts = contacts.astype(np.int64)\n",
    "    contacts[np.isnan(dist)] = -1\n",
    "    return contacts"
   ]
  },
  {
   "cell_type": "markdown",
   "metadata": {
    "id": "lW5thQpSn0Rp"
   },
   "source": [
    "### Compute contact precisions"
   ]
  },
  {
   "cell_type": "code",
   "execution_count": null,
   "metadata": {
    "id": "c7T9xWTXeIaR",
    "tags": []
   },
   "outputs": [],
   "source": [
    "def compute_precisions(\n",
    "    predictions: torch.Tensor,\n",
    "    targets: torch.Tensor,\n",
    "    src_lengths: Optional[torch.Tensor] = None,\n",
    "    minsep: int = 12, # increased to only consider medium-long range contacts\n",
    "    maxsep: Optional[int] = None,\n",
    "    override_length: Optional[int] = None,  # for CASP\n",
    "):\n",
    "    if isinstance(predictions, np.ndarray):\n",
    "        predictions = torch.from_numpy(predictions)\n",
    "    if isinstance(targets, np.ndarray):\n",
    "        targets = torch.from_numpy(targets)\n",
    "    if predictions.dim() == 2:\n",
    "        predictions = predictions.unsqueeze(0)\n",
    "    if targets.dim() == 2:\n",
    "        targets = targets.unsqueeze(0)\n",
    "    override_length = (targets[0, 0] >= 0).sum()\n",
    "\n",
    "    if predictions.size() != targets.size():\n",
    "        raise ValueError(\n",
    "            f\"Size mismatch. Received predictions of size {predictions.size()}, \"\n",
    "            f\"targets of size {targets.size()}\"\n",
    "        )\n",
    "    device = predictions.device\n",
    "\n",
    "    batch_size, seqlen, _ = predictions.size()\n",
    "    seqlen_range = torch.arange(seqlen, device=device)\n",
    "\n",
    "    sep = seqlen_range.unsqueeze(0) - seqlen_range.unsqueeze(1)\n",
    "    sep = sep.unsqueeze(0)\n",
    "    valid_mask = sep >= minsep\n",
    "    valid_mask = valid_mask & (targets >= 0)\n",
    "\n",
    "    if maxsep is not None:\n",
    "        valid_mask &= sep < maxsep\n",
    "\n",
    "    if src_lengths is not None:\n",
    "        valid = seqlen_range.unsqueeze(0) < src_lengths.unsqueeze(1)\n",
    "        valid_mask &= valid.unsqueeze(1) & valid.unsqueeze(2)\n",
    "    else:\n",
    "        src_lengths = torch.full([batch_size], seqlen, device=device, dtype=torch.long)\n",
    "\n",
    "    predictions = predictions.masked_fill(~valid_mask, float(\"-inf\"))\n",
    "\n",
    "    # minsep masks the short range contacts < 12 residues\n",
    "    x_ind, y_ind = np.triu_indices(seqlen, minsep)\n",
    "    predictions_upper = predictions[:, x_ind, y_ind]\n",
    "    targets_upper = targets[:, x_ind, y_ind]\n",
    "\n",
    "    # Increase top K by three times\n",
    "    topk_multiplier = 3\n",
    "    topk = topk_multiplier * seqlen if override_length is None else max(seqlen, override_length)\n",
    "\n",
    "    indices = predictions_upper.argsort(dim=-1, descending=True)[:, :topk]\n",
    "    topk_targets = targets_upper[torch.arange(batch_size).unsqueeze(1), indices]\n",
    "    if topk_targets.size(1) < topk:\n",
    "        topk_targets = F.pad(topk_targets, [0, topk - topk_targets.size(1)])\n",
    "\n",
    "    cumulative_dist = topk_targets.type_as(predictions).cumsum(-1)\n",
    "\n",
    "    gather_lengths = src_lengths.unsqueeze(1)\n",
    "    if override_length is not None:\n",
    "        gather_lengths = override_length * torch.ones_like(\n",
    "            gather_lengths, device=device\n",
    "        )\n",
    "\n",
    "    gather_indices = (\n",
    "        torch.arange(0.1, 1.1, 0.1, device=device).unsqueeze(0) * gather_lengths\n",
    "    ).type(torch.long) - 1\n",
    "\n",
    "    binned_cumulative_dist = cumulative_dist.gather(1, gather_indices)\n",
    "    binned_precisions = binned_cumulative_dist / (gather_indices + 1).type_as(\n",
    "        binned_cumulative_dist\n",
    "    )\n",
    "\n",
    "    pl5 = binned_precisions[:, 1]\n",
    "    pl2 = binned_precisions[:, 4]\n",
    "    pl = binned_precisions[:, 9]\n",
    "    auc = binned_precisions.mean(-1)\n",
    "\n",
    "    return {\"AUC\": auc, \"P@L\": pl, \"P@L2\": pl2, \"P@L5\": pl5}\n",
    "\n",
    "\n",
    "def evaluate_prediction(\n",
    "    predictions: torch.Tensor,\n",
    "    targets: torch.Tensor,\n",
    ") -> Dict[str, float]:\n",
    "    if isinstance(targets, np.ndarray):\n",
    "        targets = torch.from_numpy(targets)\n",
    "\n",
    "    contact_ranges = [\n",
    "        (\"M\", 12, 24),\n",
    "        (\"L\", 24, 48),\n",
    "        (\"XL\", 48, 96),\n",
    "        (\"XXL\", 96, None),\n",
    "    ]\n",
    "    metrics = {}\n",
    "    targets = targets.to(predictions.device)\n",
    "    for name, minsep, maxsep in contact_ranges:\n",
    "        rangemetrics = compute_precisions(\n",
    "            predictions,\n",
    "            targets,\n",
    "            minsep=minsep,\n",
    "            maxsep=maxsep,\n",
    "        )\n",
    "        for key, val in rangemetrics.items():\n",
    "            metrics[f\"{name}_{key}\"] = val.item()\n",
    "    return metrics"
   ]
  },
  {
   "cell_type": "markdown",
   "metadata": {},
   "source": [
    "### Getting contact pairs from prediction"
   ]
  },
  {
   "cell_type": "code",
   "execution_count": null,
   "metadata": {},
   "outputs": [],
   "source": [
    "def get_contact_pairs_from_prediction(prediction, sequence):\n",
    "    contact_pairs = [(\n",
    "            f\"{convert.ProteinSequence.convert_letter_1to3(sequence[x]).capitalize()} {x+1}\",\n",
    "            f\"{convert.ProteinSequence.convert_letter_1to3(sequence[y]).capitalize()} {y+1}\",\n",
    "        )\n",
    "        for x, y in zip(*np.where(prediction))\n",
    "    ]\n",
    "    return contact_pairs\n",
    "\n",
    "def filter_pairs(contact_pairs, residue_1, residue_2):\n",
    "    return [\n",
    "        res for res in contact_pairs if res[0].startswith(residue_1) and res[1].startswith(residue_2)\n",
    "    ]"
   ]
  },
  {
   "cell_type": "markdown",
   "metadata": {
    "id": "cvYiSUg7n5rP"
   },
   "source": [
    "### Plotting Results"
   ]
  },
  {
   "cell_type": "code",
   "execution_count": null,
   "metadata": {
    "id": "pG3gTskUfyfy",
    "tags": []
   },
   "outputs": [],
   "source": [
    "def plot_contacts_and_predictions(\n",
    "    predictions: Union[torch.Tensor, np.ndarray],\n",
    "    contacts: Union[torch.Tensor, np.ndarray],\n",
    "    ax: Optional[mpl.axes.Axes] = None,\n",
    "    cmap: str = \"Blues\",\n",
    "    ms: float = 1,\n",
    "    title: Union[bool, str, Callable[[float], str]] = True,\n",
    "    animated: bool = False,\n",
    "    prediction_threshold: float = 0.5,\n",
    ") -> None:\n",
    "\n",
    "    if isinstance(predictions, torch.Tensor):\n",
    "        predictions = predictions.detach().cpu().numpy()\n",
    "    if isinstance(contacts, torch.Tensor):\n",
    "        contacts = contacts.detach().cpu().numpy()\n",
    "    if ax is None:\n",
    "        ax = plt.gca()\n",
    "\n",
    "    # might need to edit\n",
    "    seqlen = contacts.shape[0]\n",
    "    relative_distance = np.add.outer(-np.arange(seqlen), np.arange(seqlen))\n",
    "\n",
    "    bottom_mask = relative_distance < 6\n",
    "\n",
    "    masked_image = np.ma.masked_where(bottom_mask, predictions)\n",
    "    invalid_mask = np.abs(np.add.outer(np.arange(seqlen), -np.arange(seqlen))) < 6\n",
    "    predictions = predictions.copy()\n",
    "    predictions[invalid_mask] = float(\"-inf\")\n",
    "\n",
    "    # Select only predictions over the threshold that can be resonably predicted\n",
    "    predictions = predictions > prediction_threshold\n",
    "    topl_val = np.sort(predictions.reshape(-1))[-seqlen]\n",
    "    pred_contacts = predictions >= topl_val\n",
    "    true_positives = contacts & pred_contacts & ~bottom_mask\n",
    "    false_positives = ~contacts & pred_contacts & ~bottom_mask\n",
    "    other_contacts = contacts & ~pred_contacts & ~bottom_mask\n",
    "\n",
    "    if isinstance(title, str):\n",
    "        title_text: Optional[str] = title\n",
    "    elif title:\n",
    "        long_range_pl = compute_precisions(predictions, contacts, minsep=12)[  \n",
    "            \"P@L\"\n",
    "        ].item()\n",
    "        if callable(title):\n",
    "            title_text = title(long_range_pl)\n",
    "        else:\n",
    "            title_text = f\"Long Range P@L: {100 * long_range_pl:0.1f}\"\n",
    "    else:\n",
    "        title_text = None\n",
    "\n",
    "    img = ax.imshow(masked_image, cmap=cmap, animated=animated)\n",
    "    oc = ax.plot(*np.where(other_contacts), \"o\", c=\"lightgrey\", ms=ms)[0]\n",
    "    fn = ax.plot(*np.where(false_positives), \"o\", c=\"red\", ms=ms)[0]\n",
    "    tp = ax.plot(*np.where(true_positives), \"o\", c=\"midnightblue\", ms=ms)[0]\n",
    "    ti = ax.set_title(title_text) if title_text is not None else None\n",
    "\n",
    "    ax.axis(\"square\")\n",
    "    ax.set_xlim([0, seqlen])\n",
    "    ax.set_ylim([0, seqlen])"
   ]
  },
  {
   "cell_type": "code",
   "execution_count": null,
   "metadata": {},
   "outputs": [],
   "source": [
    "def get_sequence_from_structure(structure, chain_id):\n",
    "\n",
    "    mask = ~structure.hetero\n",
    "    mask &= structure.chain_id == chain_id\n",
    "\n",
    "    residues = [ atom.res_name for atom in structure[mask] if atom.atom_name == 'CA' ]\n",
    "    return convert.ProteinSequence(residues)"
   ]
  },
  {
   "cell_type": "markdown",
   "metadata": {
    "id": "6T7Pcz-poDFn"
   },
   "source": [
    "## Predict and Visualize"
   ]
  },
  {
   "cell_type": "markdown",
   "metadata": {
    "id": "WnZSlf1EoGys"
   },
   "source": [
    "### Read Data"
   ]
  },
  {
   "cell_type": "code",
   "execution_count": null,
   "metadata": {
    "id": "FS8xLDd9ZJfN",
    "tags": []
   },
   "outputs": [],
   "source": [
    "# Read in data\n",
    "\n",
    "PDB_IDS = [\"6shx\"] # [\"4e4w\"] # [\"1a3a\", \"5ahw\", \"1xcr\"]\n",
    "chain = 'A'\n",
    "\n",
    "structures = {}\n",
    "sequences = {}\n",
    "contacts = {}\n",
    "\n",
    "# For MMR examples\n",
    "for name in PDB_IDS:\n",
    "    structures[name] = get_structure(PDBxFile.read(rcsb.fetch(name, \"cif\")))[0]\n",
    "    sequences[name] = (name, str(get_sequence_from_structure(structures[name], chain)))\n",
    "    contacts[name] = contacts_from_pdb(structures[name], chain=chain)"
   ]
  },
  {
   "cell_type": "markdown",
   "metadata": {
    "id": "jacL9LZXoJYD"
   },
   "source": [
    "### ESM-2 Predictions"
   ]
  },
  {
   "cell_type": "code",
   "execution_count": null,
   "metadata": {
    "id": "Kwh2szcbYvKm",
    "tags": []
   },
   "outputs": [],
   "source": [
    "esm2, esm2_alphabet = esm.pretrained.esm2_t33_650M_UR50D()\n",
    "esm2_batch_converter = esm2_alphabet.get_batch_converter()\n",
    "\n",
    "# esm2 = torch.load('trained_model_6ep.pth') # V1\n",
    "\n",
    "# esm2 = torch.load(\"trained_model_tristan_esm2_t33_650M_UR50D_v2.pth\") # V2\n",
    "\n",
    "esm2 = esm2.eval()"
   ]
  },
  {
   "cell_type": "markdown",
   "metadata": {
    "tags": []
   },
   "source": [
    "# Examples"
   ]
  },
  {
   "cell_type": "markdown",
   "metadata": {
    "tags": []
   },
   "source": [
    "# Model O"
   ]
  },
  {
   "cell_type": "code",
   "execution_count": null,
   "metadata": {
    "tags": []
   },
   "outputs": [],
   "source": [
    "esm2_predictions = {}\n",
    "esm2_results = []\n",
    "\n",
    "for name, inputs in sequences.items():\n",
    "    esm2_batch_labels, esm2_batch_strs, esm2_batch_tokens = esm2_batch_converter([('some random string',str(b))])\n",
    "\n",
    "    esm2_batch_tokens = esm2_batch_tokens.to(next(esm2.parameters()).device)\n",
    "    esm2_predictions[name] = esm2.predict_contacts(esm2_batch_tokens)[0].cpu()\n",
    "\n",
    "    metrics = {\"id\": name, \"model\": \"ESM-2 (Unsupervised)\"}\n",
    "\n",
    "    predictions = evaluate_prediction(esm2_predictions[name], contacts[name])\n",
    "\n",
    "    metrics.update(predictions)\n",
    "    esm2_results.append(metrics)\n",
    "\n",
    "esm2_results = pd.DataFrame(esm2_results)\n",
    "display(esm2_results)"
   ]
  },
  {
   "cell_type": "code",
   "execution_count": null,
   "metadata": {
    "tags": []
   },
   "outputs": [],
   "source": [
    "fig, axes = plt.subplots(figsize=(18, 6), ncols=3)\n",
    "for ax, name in zip(axes, PDB_IDS):\n",
    "    prediction = esm2_predictions[name] > 0.5\n",
    "    target = contacts[name]\n",
    "    plot_contacts_and_predictions(\n",
    "        prediction, target, ax=ax, title = lambda prec: f\"{name}: Long Range P@L: {100 * prec:0.1f}\"\n",
    "    )\n",
    "plt.show()"
   ]
  },
  {
   "cell_type": "code",
   "execution_count": null,
   "metadata": {
    "tags": []
   },
   "outputs": [],
   "source": [
    "esm2_predictions = {}\n",
    "esm2_results = []\n",
    "for name, inputs in sequences.items():\n",
    "    esm2_batch_labels, esm2_batch_strs, esm2_batch_tokens = esm2_batch_converter([inputs])\n",
    "    esm2_batch_tokens = esm2_batch_tokens.to(next(esm2.parameters()).device)\n",
    "    esm2_predictions[name] = esm2.predict_contacts(esm2_batch_tokens)[0].cpu()\n",
    "    metrics = {\"id\": name, \"model\": \"ESM-2 (Unsupervised)\"}\n",
    "    metrics.update(evaluate_prediction(esm2_predictions[name], contacts[name]))\n",
    "    esm2_results.append(metrics)\n",
    "esm2_results = pd.DataFrame(esm2_results)\n",
    "display(esm2_results)"
   ]
  },
  {
   "cell_type": "code",
   "execution_count": null,
   "metadata": {
    "tags": []
   },
   "outputs": [],
   "source": [
    "fig, axes = plt.subplots(figsize=(7, 5), ncols=1)\n",
    "prediction = esm2_predictions[name] > 0.3\n",
    "target = contacts[name]\n",
    "plot_contacts_and_predictions(\n",
    "    prediction, target, title = lambda prec: f\"{name}: Long Range P@L: {100 * prec:0.1f}\"\n",
    ")\n",
    "plt.show()"
   ]
  },
  {
   "cell_type": "code",
   "execution_count": null,
   "metadata": {},
   "outputs": [],
   "source": [
    "contact_pairs = get_contact_pairs_from_prediction(prediction, sequences['6shx'][1])"
   ]
  },
  {
   "cell_type": "code",
   "execution_count": null,
   "metadata": {},
   "outputs": [],
   "source": [
    "contact_pairs"
   ]
  },
  {
   "cell_type": "code",
   "execution_count": null,
   "metadata": {},
   "outputs": [],
   "source": [
    "filter_pairs(contact_pairs, 'Glu', 'Leu')"
   ]
  },
  {
   "cell_type": "code",
   "execution_count": null,
   "metadata": {
    "tags": []
   },
   "outputs": [],
   "source": [
    "esm2_predictions = {}\n",
    "esm2_results = []\n",
    "for name, inputs in sequences.items():\n",
    "    esm2_batch_labels, esm2_batch_strs, esm2_batch_tokens = esm2_batch_converter([inputs])\n",
    "    esm2_batch_tokens = esm2_batch_tokens.to(next(esm2.parameters()).device)\n",
    "    esm2_predictions[name] = esm2.predict_contacts(esm2_batch_tokens)[0].cpu()\n",
    "    metrics = {\"id\": name, \"model\": \"ESM-2 (Unsupervised)\"}\n",
    "    metrics.update(evaluate_prediction(esm2_predictions[name], contacts[name]))\n",
    "    esm2_results.append(metrics)\n",
    "esm2_results = pd.DataFrame(esm2_results)\n",
    "display(esm2_results)"
   ]
  },
  {
   "cell_type": "code",
   "execution_count": null,
   "metadata": {
    "tags": []
   },
   "outputs": [],
   "source": [
    "fig, axes = plt.subplots(figsize=(7, 5), ncols=1)\n",
    "prediction = esm2_predictions[name] > 0.5\n",
    "target = contacts[name]\n",
    "plot_contacts_and_predictions(\n",
    "    prediction, target, title = lambda prec: f\"{name}: Long Range P@L: {100 * prec:0.1f}\"\n",
    ")\n",
    "plt.show()"
   ]
  },
  {
   "cell_type": "markdown",
   "metadata": {},
   "source": [
    "# Model V1"
   ]
  },
  {
   "cell_type": "code",
   "execution_count": null,
   "metadata": {
    "tags": []
   },
   "outputs": [],
   "source": [
    "esm2_predictions = {}\n",
    "esm2_results = []\n",
    "for name, inputs in sequences.items():\n",
    "    esm2_batch_labels, esm2_batch_strs, esm2_batch_tokens = esm2_batch_converter([inputs])\n",
    "    esm2_batch_tokens = esm2_batch_tokens.to(next(esm2.parameters()).device)\n",
    "    esm2_predictions[name] = esm2.predict_contacts(esm2_batch_tokens)[0].cpu()\n",
    "    metrics = {\"id\": name, \"model\": \"ESM-2 (Unsupervised)\"}\n",
    "    metrics.update(evaluate_prediction(esm2_predictions[name], contacts[name]))\n",
    "    esm2_results.append(metrics)\n",
    "esm2_results = pd.DataFrame(esm2_results)\n",
    "display(esm2_results)"
   ]
  },
  {
   "cell_type": "code",
   "execution_count": null,
   "metadata": {
    "tags": []
   },
   "outputs": [],
   "source": [
    "fig, axes = plt.subplots(figsize=(18, 6), ncols=3)\n",
    "for ax, name in zip(axes, PDB_IDS):\n",
    "    prediction = esm2_predictions[name] > 0.5\n",
    "    target = contacts[name]\n",
    "    plot_contacts_and_predictions(\n",
    "        prediction, target, ax=ax, title = lambda prec: f\"{name}: Long Range P@L: {100 * prec:0.1f}\"\n",
    "    )\n",
    "plt.show()"
   ]
  },
  {
   "cell_type": "code",
   "execution_count": null,
   "metadata": {
    "tags": []
   },
   "outputs": [],
   "source": [
    "esm2_predictions = {}\n",
    "esm2_results = []\n",
    "for name, inputs in sequences.items():\n",
    "    esm2_batch_labels, esm2_batch_strs, esm2_batch_tokens = esm2_batch_converter([inputs])\n",
    "    esm2_batch_tokens = esm2_batch_tokens.to(next(esm2.parameters()).device)\n",
    "    esm2_predictions[name] = esm2.predict_contacts(esm2_batch_tokens)[0].cpu()\n",
    "    metrics = {\"id\": name, \"model\": \"ESM-2 (Unsupervised)\"}\n",
    "    metrics.update(evaluate_prediction(esm2_predictions[name], contacts[name]))\n",
    "    esm2_results.append(metrics)\n",
    "esm2_results = pd.DataFrame(esm2_results)\n",
    "display(esm2_results)"
   ]
  },
  {
   "cell_type": "code",
   "execution_count": null,
   "metadata": {
    "tags": []
   },
   "outputs": [],
   "source": [
    "fig, axes = plt.subplots(figsize=(7, 5), ncols=1)\n",
    "prediction = esm2_predictions[name] > 0.5\n",
    "target = contacts[name]d\n",
    "plot_contacts_and_predictions(\n",
    "    prediction, target, title = lambda prec: f\"{name}: Long Range P@L: {100 * prec:0.1f}\"\n",
    ")\n",
    "plt.show()"
   ]
  },
  {
   "cell_type": "code",
   "execution_count": null,
   "metadata": {
    "tags": []
   },
   "outputs": [],
   "source": [
    "esm2_predictions = {}\n",
    "esm2_results = []\n",
    "for name, inputs in sequences.items():\n",
    "    esm2_batch_labels, esm2_batch_strs, esm2_batch_tokens = esm2_batch_converter([inputs])\n",
    "    esm2_batch_tokens = esm2_batch_tokens.to(next(esm2.parameters()).device)\n",
    "    esm2_predictions[name] = esm2.predict_contacts(esm2_batch_tokens)[0].cpu()\n",
    "    metrics = {\"id\": name, \"model\": \"ESM-2 (Unsupervised)\"}\n",
    "    metrics.update(evaluate_prediction(esm2_predictions[name], contacts[name]))\n",
    "    esm2_results.append(metrics)\n",
    "esm2_results = pd.DataFrame(esm2_results)\n",
    "display(esm2_results)"
   ]
  },
  {
   "cell_type": "markdown",
   "metadata": {},
   "source": [
    "# Model V2"
   ]
  },
  {
   "cell_type": "code",
   "execution_count": null,
   "metadata": {
    "tags": []
   },
   "outputs": [],
   "source": [
    "esm2_predictions = {}\n",
    "esm2_results = []\n",
    "for name, inputs in sequences.items():\n",
    "    esm2_batch_labels, esm2_batch_strs, esm2_batch_tokens = esm2_batch_converter([inputs])\n",
    "    esm2_batch_tokens = esm2_batch_tokens.to(next(esm2.parameters()).device)\n",
    "    esm2_predictions[name] = esm2.predict_contacts(esm2_batch_tokens)[0].cpu()\n",
    "    metrics = {\"id\": name, \"model\": \"ESM-2 (Unsupervised)\"}\n",
    "    metrics.update(evaluate_prediction(esm2_predictions[name], contacts[name]))\n",
    "    esm2_results.append(metrics)\n",
    "esm2_results = pd.DataFrame(esm2_results)\n",
    "display(esm2_results)"
   ]
  },
  {
   "cell_type": "code",
   "execution_count": null,
   "metadata": {
    "tags": []
   },
   "outputs": [],
   "source": [
    "fig, axes = plt.subplots(figsize=(18, 6), ncols=3)\n",
    "for ax, name in zip(axes, PDB_IDS):\n",
    "    prediction = esm2_predictions[name] > 0.5\n",
    "    target = contacts[name]\n",
    "    plot_contacts_and_predictions(\n",
    "        prediction, target, ax=ax, title = lambda prec: f\"{name}: Long Range P@L: {100 * prec:0.1f}\"\n",
    "    )\n",
    "plt.show()"
   ]
  }
 ],
 "metadata": {
  "accelerator": "GPU",
  "colab": {
   "collapsed_sections": [
    "U0ukYqqzateL",
    "q1eZWXv1bxGl",
    "i7iXPaDKZ5vx",
    "rb4cDoG2ns91",
    "tV3WCbn6aXL7",
    "mqwybh2Tn_Ou",
    "lW5thQpSn0Rp",
    "cvYiSUg7n5rP",
    "WnZSlf1EoGys"
   ],
   "name": "esm_contact_prediction.ipynb",
   "provenance": [],
   "toc_visible": true
  },
  "kernelspec": {
   "display_name": "Python 3 (ipykernel)",
   "language": "python",
   "name": "python3"
  },
  "language_info": {
   "codemirror_mode": {
    "name": "ipython",
    "version": 3
   },
   "file_extension": ".py",
   "mimetype": "text/x-python",
   "name": "python",
   "nbconvert_exporter": "python",
   "pygments_lexer": "ipython3",
   "version": "3.11.7"
  }
 },
 "nbformat": 4,
 "nbformat_minor": 4
}
